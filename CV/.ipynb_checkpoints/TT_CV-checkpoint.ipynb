{
 "cells": [
  {
   "cell_type": "code",
   "execution_count": 1,
   "metadata": {},
   "outputs": [
    {
     "name": "stdout",
     "output_type": "stream",
     "text": [
      "Populating the interactive namespace from numpy and matplotlib\n",
      "3.4.2\n"
     ]
    }
   ],
   "source": [
    "import copy as pyCopy\n",
    "%pylab inline\n",
    "import cv2 as cv2\n",
    "print(cv2.__version__)"
   ]
  },
  {
   "cell_type": "code",
   "execution_count": 28,
   "metadata": {},
   "outputs": [],
   "source": [
    "def cubeDetector(img, h_thresh, s_thresh, v_thresh, drawnImg = None):\n",
    "    hsv = cv2.cvtColor(img, cv2.COLOR_BGR2HSV)\n",
    "    \n",
    "    #cv2.imwrite(\"flowchart_stuff/hsv.jpg\", hsv)\n",
    "    \n",
    "    channels = []\n",
    "    channels = cv2.split(hsv, channels)\n",
    "    # 0 = H, 1 = S, 2 = V\n",
    "    \n",
    "    #cv2.imshow(\"H\", cv2.resize(channels[0], (480, 640)))\n",
    "    cv2.imshow(\"S\", cv2.resize(channels[1], (480, 640)))\n",
    "    #cv2.imshow(\"V\", cv2.resize(channels[2], (480, 640)))\n",
    "    \n",
    "    #cv2.imwrite(\"flowchart_stuff/goldPreS.jpg\", channels[1])\n",
    "    \n",
    "    channels[0] = cv2.inRange(channels[0], h_thresh[0], h_thresh[1], channels[0]);\n",
    "    channels[1] = cv2.inRange(channels[1], s_thresh[0], s_thresh[1], channels[1]);\n",
    "    channels[2] = cv2.inRange(channels[2], v_thresh[0], v_thresh[1], channels[2]);\n",
    "    \n",
    "    #cv2.imwrite(\"flowchart_stuff/goldS.jpg\", channels[1])\n",
    "    \n",
    "    #cv2.imshow(\"goldH\", cv2.resize(channels[0], (320, 480)))\n",
    "    #cv2.imshow(\"goldS\", cv2.resize(channels[1], (320, 480)))\n",
    "    #cv2.imshow(\"goldV\", cv2.resize(channels[2], (320, 480)))\n",
    "\n",
    "    finalMap = cv2.bitwise_and(channels[0], channels[1])\n",
    "    finalMap = cv2.bitwise_and(finalMap, channels[2])\n",
    "    \n",
    "    #cv2.imshow(\"combined\", cv2.resize(finalMap, (480, 640)))\n",
    "    \n",
    "    #cv2.imwrite(\"flowchart_stuff/goldBinary.jpg\", finalMap)\n",
    "\n",
    "    #floodFillMap = pyCopy.deepcopy(finalMap)\n",
    "\n",
    "    #cv2.floodFill(floodFillMap,None,(0,0),255)\n",
    "\n",
    "    #floodFillMap = cv2.bitwise_not(floodFillMap)\n",
    "\n",
    "    #finalMap = cv2.bitwise_or(finalMap, floodFillMap)\n",
    "\n",
    "    #finalMap = cv2.GaussianBlur( finalMap, (9, 9), 2, 2)\n",
    "    \n",
    "    #cv2.imwrite(\"flowchart_stuff/goldBinaryBlur.jpg\", finalMap)\n",
    "    \n",
    "    cv2.imshow(\"cubeBinaryMap\", cv2.resize(finalMap, (480, 640)))\n",
    "    \n",
    "    finalMapContours = None;\n",
    "    finalMapContours = cv2.findContours(finalMap, cv2.RETR_TREE,cv2.CHAIN_APPROX_SIMPLE, finalMapContours)\n",
    "    \n",
    "    if drawnImg is not None:\n",
    "        retImg = pyCopy.deepcopy(drawnImg)\n",
    "    else:\n",
    "        retImg = pyCopy.deepcopy(img)\n",
    "    \n",
    "    if finalMapContours is not None:\n",
    "        polygons = [];\n",
    "        for contour in finalMapContours[1]:\n",
    "            if cv2.contourArea(contour) > 10000:\n",
    "                polygons.append(cv2.approxPolyDP(contour, .05*cv2.arcLength(contour, True), True))\n",
    "                M = cv2.moments(contour)\n",
    "                cX = int(M[\"m10\"] / M[\"m00\"])\n",
    "                cY = int(M[\"m01\"] / M[\"m00\"])\n",
    "                 \n",
    "                # draw the contour and center of the shape on the image\n",
    "                cv2.circle(retImg, (cX, cY), 7, (255, 255, 255), -1)\n",
    "                \n",
    "        cv2.drawContours(retImg, polygons, -1, (255, 0, 0), 4)\n",
    "    \n",
    "    return retImg"
   ]
  },
  {
   "cell_type": "code",
   "execution_count": null,
   "metadata": {},
   "outputs": [],
   "source": [
    "frame = cv2.imread(\"blocks1.jpg\")\n",
    "fs = cv2.resize(frame, (540,540))\n",
    "cv2.imshow(\"final\", cv2.resize(cubeDetector(frame, (0, 20), (140, 230), (200, 250)), (480, 640)))\n",
    "while(cv2.waitKey(0) != ord('q')):\n",
    "    pass\n",
    "cv2.destroyAllWindows()"
   ]
  },
  {
   "cell_type": "code",
   "execution_count": null,
   "metadata": {},
   "outputs": [],
   "source": []
  }
 ],
 "metadata": {
  "kernelspec": {
   "display_name": "Python 3",
   "language": "python",
   "name": "python3"
  },
  "language_info": {
   "codemirror_mode": {
    "name": "ipython",
    "version": 3
   },
   "file_extension": ".py",
   "mimetype": "text/x-python",
   "name": "python",
   "nbconvert_exporter": "python",
   "pygments_lexer": "ipython3",
   "version": "3.6.5"
  }
 },
 "nbformat": 4,
 "nbformat_minor": 2
}
